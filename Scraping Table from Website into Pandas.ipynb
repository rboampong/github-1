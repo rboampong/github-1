{
    "cells": [
        {
            "cell_type": "code",
            "execution_count": 34,
            "metadata": {},
            "outputs": [],
            "source": " @hidden_cell\n# The project token is an authorization token that is used to access project resources like data sources, connections, and used by platform APIs.\nfrom project_lib import Project\nproject = Project(project_id='55879393-3d44-426c-ac44-d401f24e63b1', project_access_token='p-15d21cd01b2182de4b20021c385dddbe92ffb6ef')\npc = project.project_context\n"
        },
        {
            "cell_type": "markdown",
            "metadata": {
                "collapsed": true
            },
            "source": "## Scraping Data from a Table on a Website into a Pandas DataFrame\n"
        },
        {
            "cell_type": "markdown",
            "metadata": {},
            "source": "#### Scapping the data from the Wikipedia page (https://en.wikipedia.org/wiki/List_of_postal_codes_of_Canada:_M)\n"
        },
        {
            "cell_type": "markdown",
            "metadata": {},
            "source": "## Inspect HTML code of website\nBased on the HTML codes, each row of the data are stored in `<tr>..</tr>`. This is the row information. Each row has a corresponding `<td>..</td>` or cell data information."
        },
        {
            "cell_type": "markdown",
            "metadata": {},
            "source": "## Import Libraries"
        },
        {
            "cell_type": "code",
            "execution_count": 1,
            "metadata": {},
            "outputs": [],
            "source": "import requests # for getting the HTML contents of the website\nimport lxml.html as lh # for parsing the relevant fields\nimport pandas as pd # for converting to a Pandas DataFrame and storing the data\nimport numpy as np"
        },
        {
            "cell_type": "markdown",
            "metadata": {},
            "source": "## Send the GET request to get the content of the website"
        },
        {
            "cell_type": "code",
            "execution_count": 2,
            "metadata": {},
            "outputs": [
                {
                    "data": {
                        "text/plain": "<Element html at 0x7f84b5db1c28>"
                    },
                    "execution_count": 2,
                    "metadata": {},
                    "output_type": "execute_result"
                }
            ],
            "source": "#sent the GET Request \nurl='https://en.wikipedia.org/wiki/List_of_postal_codes_of_Canada:_M'\npage = requests.get(url)\n#Store the contents of the website under doc\ndoc = lh.fromstring(page.content)\ndoc"
        },
        {
            "cell_type": "markdown",
            "metadata": {},
            "source": "## Parse data that are stored between `<tr>..</tr>` "
        },
        {
            "cell_type": "code",
            "execution_count": 3,
            "metadata": {},
            "outputs": [
                {
                    "data": {
                        "text/plain": "[3, 3, 3, 3, 3, 3, 3, 3, 3, 3]"
                    },
                    "execution_count": 3,
                    "metadata": {},
                    "output_type": "execute_result"
                }
            ],
            "source": "#Parse data that are stored between <tr>..</tr> of HTML\ntr_elements = doc.xpath('//tr')\ntr_elements #Each element in tr_element contrains the rows of the table. since each row has three columns, the length of each row should be three\n#Check the length of the first 12 rows\nncolumns=[len(T) for T in tr_elements[0:10]]\nncolumns"
        },
        {
            "cell_type": "markdown",
            "metadata": {},
            "source": "## EXtract the Elements in tr_elements as a list of list or a dictionary"
        },
        {
            "cell_type": "markdown",
            "metadata": {},
            "source": "#### Parse Table Header\n"
        },
        {
            "cell_type": "code",
            "execution_count": 4,
            "metadata": {},
            "outputs": [
                {
                    "data": {
                        "text/plain": "[('Postal Code', []), ('Borough', []), ('Neighborhood', [])]"
                    },
                    "execution_count": 4,
                    "metadata": {},
                    "output_type": "execute_result"
                }
            ],
            "source": "col=[]\ni=0\n#note tr_elements[0] is the header row. It has three contents representing the columns\n# Extract the content into a list \nfor t in tr_elements[0]:\n    i=i+1\n    name=t.text_content()\n    name = name.rstrip(\"\\n\") #just to stripe the trailling \"\\n\"\n    col.append((name,[]))\ncol"
        },
        {
            "cell_type": "markdown",
            "metadata": {},
            "source": "#### Parse the row Elements and append them to the corresponding tuple in the list col "
        },
        {
            "cell_type": "code",
            "execution_count": 5,
            "metadata": {},
            "outputs": [],
            "source": "#Since out first row is the header, data is stored on the second row onwards\nfor j in range(1,len(tr_elements)):\n    #T is our j'th row\n    T=tr_elements[j]\n    \n    #If row is not of size 3, the //tr data is not from our table \n    if len(T)!=3:\n        break\n    \n    #i is the index of our column\n    i=0\n    \n    #Iterate through each element of the row\n    for t in T.iterchildren():\n        data=t.text_content() \n        data = data.rstrip(\"\\n\") #just to stripe the trailling \"\\n\"\n  \n        #Append the data to the i'th column in the list col \n        col[i][1].append(data)\n        #Increment i for the next column\n        i=i+1"
        },
        {
            "cell_type": "code",
            "execution_count": 6,
            "metadata": {},
            "outputs": [
                {
                    "data": {
                        "text/plain": "[181, 181, 181]"
                    },
                    "execution_count": 6,
                    "metadata": {},
                    "output_type": "execute_result"
                }
            ],
            "source": "[len(C) for (title,C) in col] # check the length of each coloumn\n"
        },
        {
            "cell_type": "markdown",
            "metadata": {},
            "source": "## Create a Pandas DataFrame"
        },
        {
            "cell_type": "code",
            "execution_count": 7,
            "metadata": {},
            "outputs": [],
            "source": "Dict={title:column for (title,column) in col} #create a python dictionary with the data in col \ndf=pd.DataFrame(Dict) # convert dictionary to a Pandas DataFrame"
        },
        {
            "cell_type": "code",
            "execution_count": 8,
            "metadata": {},
            "outputs": [],
            "source": "df['Postal Code'].replace('', np.nan, inplace=True)\ndf\ndf.dropna(inplace=True)"
        },
        {
            "cell_type": "code",
            "execution_count": 9,
            "metadata": {},
            "outputs": [
                {
                    "data": {
                        "text/html": "<div>\n<style scoped>\n    .dataframe tbody tr th:only-of-type {\n        vertical-align: middle;\n    }\n\n    .dataframe tbody tr th {\n        vertical-align: top;\n    }\n\n    .dataframe thead th {\n        text-align: right;\n    }\n</style>\n<table border=\"1\" class=\"dataframe\">\n  <thead>\n    <tr style=\"text-align: right;\">\n      <th></th>\n      <th>Postal Code</th>\n      <th>Borough</th>\n      <th>Neighborhood</th>\n    </tr>\n  </thead>\n  <tbody>\n    <tr>\n      <th>175</th>\n      <td>M5Z</td>\n      <td>Not assigned</td>\n      <td></td>\n    </tr>\n    <tr>\n      <th>176</th>\n      <td>M6Z</td>\n      <td>Not assigned</td>\n      <td></td>\n    </tr>\n    <tr>\n      <th>177</th>\n      <td>M7Z</td>\n      <td>Not assigned</td>\n      <td></td>\n    </tr>\n    <tr>\n      <th>178</th>\n      <td>M8Z</td>\n      <td>Etobicoke</td>\n      <td>Mimico NW, The Queensway West, South of Bloor,...</td>\n    </tr>\n    <tr>\n      <th>179</th>\n      <td>M9Z</td>\n      <td>Not assigned</td>\n      <td></td>\n    </tr>\n  </tbody>\n</table>\n</div>",
                        "text/plain": "    Postal Code       Borough  \\\n175         M5Z  Not assigned   \n176         M6Z  Not assigned   \n177         M7Z  Not assigned   \n178         M8Z     Etobicoke   \n179         M9Z  Not assigned   \n\n                                          Neighborhood  \n175                                                     \n176                                                     \n177                                                     \n178  Mimico NW, The Queensway West, South of Bloor,...  \n179                                                     "
                    },
                    "execution_count": 9,
                    "metadata": {},
                    "output_type": "execute_result"
                }
            ],
            "source": "df.tail()"
        },
        {
            "cell_type": "markdown",
            "metadata": {},
            "source": "## Preprossessing"
        },
        {
            "cell_type": "code",
            "execution_count": 14,
            "metadata": {},
            "outputs": [
                {
                    "name": "stdout",
                    "output_type": "stream",
                    "text": "the dataset has  103 postal Codes\nthe dataset has  103 unique postal Codes\n"
                },
                {
                    "data": {
                        "text/html": "<div>\n<style scoped>\n    .dataframe tbody tr th:only-of-type {\n        vertical-align: middle;\n    }\n\n    .dataframe tbody tr th {\n        vertical-align: top;\n    }\n\n    .dataframe thead th {\n        text-align: right;\n    }\n</style>\n<table border=\"1\" class=\"dataframe\">\n  <thead>\n    <tr style=\"text-align: right;\">\n      <th></th>\n      <th>Postal Code</th>\n      <th>Borough</th>\n      <th>Neighborhood</th>\n    </tr>\n  </thead>\n  <tbody>\n    <tr>\n      <th>0</th>\n      <td>M3A</td>\n      <td>North York</td>\n      <td>Parkwoods</td>\n    </tr>\n    <tr>\n      <th>1</th>\n      <td>M4A</td>\n      <td>North York</td>\n      <td>Victoria Village</td>\n    </tr>\n    <tr>\n      <th>2</th>\n      <td>M5A</td>\n      <td>Downtown Toronto</td>\n      <td>Regent Park, Harbourfront</td>\n    </tr>\n    <tr>\n      <th>3</th>\n      <td>M6A</td>\n      <td>North York</td>\n      <td>Lawrence Manor, Lawrence Heights</td>\n    </tr>\n    <tr>\n      <th>4</th>\n      <td>M7A</td>\n      <td>Downtown Toronto</td>\n      <td>Queen's Park, Ontario Provincial Government</td>\n    </tr>\n  </tbody>\n</table>\n</div>",
                        "text/plain": "  Postal Code           Borough                                 Neighborhood\n0         M3A        North York                                    Parkwoods\n1         M4A        North York                             Victoria Village\n2         M5A  Downtown Toronto                    Regent Park, Harbourfront\n3         M6A        North York             Lawrence Manor, Lawrence Heights\n4         M7A  Downtown Toronto  Queen's Park, Ontario Provincial Government"
                    },
                    "execution_count": 14,
                    "metadata": {},
                    "output_type": "execute_result"
                }
            ],
            "source": "# delete rows with unassigned Borough\ndf['Borough'].replace('Not assigned', np.nan, inplace=True)\ndf.dropna(inplace=True)\n\n#check to make sure there are no duplicate Postal Codes\nprint('the dataset has ', len(df['Postal Code']), 'postal Codes')\nprint('the dataset has ', len(df['Postal Code'].unique()), 'unique postal Codes')\n\n#reset the index \ndf.reset_index(drop=True, inplace=True)\ndf.head()"
        },
        {
            "cell_type": "code",
            "execution_count": 36,
            "metadata": {},
            "outputs": [
                {
                    "data": {
                        "text/plain": "{'file_name': 'df.csv',\n 'message': 'File saved to project storage.',\n 'bucket_name': 'capstoneprojectweek3-donotdelete-pr-u7gb3mhhsnrn0a',\n 'asset_id': 'b1b5541b-1c1c-43e2-8ab7-bbcece4d166e'}"
                    },
                    "execution_count": 36,
                    "metadata": {},
                    "output_type": "execute_result"
                }
            ],
            "source": "@hidden_cell\n\nproject.save_data(data=df.to_csv(index=False),file_name='df.csv',overwrite=True)"
        },
        {
            "cell_type": "code",
            "execution_count": 37,
            "metadata": {},
            "outputs": [
                {
                    "name": "stdout",
                    "output_type": "stream",
                    "text": "(103, 3)\n"
                }
            ],
            "source": "print(df.shape)"
        },
        {
            "cell_type": "code",
            "execution_count": null,
            "metadata": {},
            "outputs": [],
            "source": ""
        }
    ],
    "metadata": {
        "kernelspec": {
            "display_name": "Python 3.6",
            "language": "python",
            "name": "python3"
        },
        "language_info": {
            "codemirror_mode": {
                "name": "ipython",
                "version": 3
            },
            "file_extension": ".py",
            "mimetype": "text/x-python",
            "name": "python",
            "nbconvert_exporter": "python",
            "pygments_lexer": "ipython3",
            "version": "3.6.9"
        }
    },
    "nbformat": 4,
    "nbformat_minor": 1
}